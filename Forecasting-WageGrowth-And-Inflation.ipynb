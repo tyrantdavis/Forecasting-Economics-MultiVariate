{
 "cells": [
  {
   "cell_type": "markdown",
   "id": "fd585928",
   "metadata": {},
   "source": [
    "# Import Software Libraries"
   ]
  },
  {
   "cell_type": "code",
   "execution_count": 1,
   "id": "34d34fc2-170f-4589-b80f-5b18efe83810",
   "metadata": {},
   "outputs": [
    {
     "name": "stdout",
     "output_type": "stream",
     "text": [
      "Libraries used in this project:\n",
      "- NumPy 1.24.3\n",
      "- pandas 2.0.3\n",
      "- scikit-learn 1.3.2\n",
      "- statsmodels 0.14.1\n",
      "- Matplotlib 3.7.2\n",
      "- requests 2.32.3\n",
      "- statsmodels 0.14.1\n",
      "- Python 3.8.18 | packaged by conda-forge | (default, Dec 23 2023, 17:23:49) \n",
      "[Clang 15.0.7 ]\n",
      "\n"
     ]
    }
   ],
   "source": [
    "import datetime as dt  # Work with datetime types.\n",
    "import os  # Interact with the operating system.\n",
    "import sys  # Read system parameters.\n",
    "import warnings  # Ignore warnings\n",
    "from io import StringIO  # Read and write strings as files\n",
    "from urllib.parse import urlparse  # Parse url and extract path component\n",
    "\n",
    "import matplotlib\n",
    "import matplotlib.pyplot as plt\n",
    "import numpy as np  # Work with multi-dimensional arrays and matrices.\n",
    "import pandas as pd  # Manipulate and analyze data frames.\n",
    "import requests  # Send HTTP requests\n",
    "import sklearn  # Perform feature engineering and machine learning.\n",
    "import statsmodels  # Perform statistical modeling.\n",
    "\n",
    "# Summarize software libraries used.\n",
    "print(\"Libraries used in this project:\")\n",
    "print(\"- NumPy {}\".format(np.__version__))\n",
    "print(\"- pandas {}\".format(pd.__version__))\n",
    "print(\"- scikit-learn {}\".format(sklearn.__version__))\n",
    "print(\"- statsmodels {}\".format(statsmodels.__version__))\n",
    "print(\"- Matplotlib {}\".format(matplotlib.__version__))\n",
    "print(\"- requests {}\".format(requests.__version__))\n",
    "print(\"- statsmodels {}\".format(statsmodels.__version__))\n",
    "print(\"- Python {}\\n\".format(sys.version))"
   ]
  },
  {
   "cell_type": "markdown",
   "id": "c42b6aff-de85-4f53-aab1-ee67c13ac9ed",
   "metadata": {},
   "source": [
    "# Load Dataset"
   ]
  },
  {
   "cell_type": "code",
   "execution_count": 2,
   "id": "1c247197-a39e-433e-b9e9-e237652ee22a",
   "metadata": {},
   "outputs": [
    {
     "name": "stdout",
     "output_type": "stream",
     "text": [
      "Loaded 123 records from economics_data.csv.\n"
     ]
    }
   ],
   "source": [
    "# Capture URL\n",
    "url = \"https://raw.githubusercontent.com/tyrantdavis/datasets/refs/heads/main/economics_data.csv\"\n",
    "request = requests.get(url).text\n",
    "\n",
    "# Save as dataframe and copy\n",
    "original = pd.read_csv(StringIO(request))\n",
    "df = original.copy()\n",
    "\n",
    "# Parse URL\n",
    "parsed_url = urlparse(url)\n",
    "path = parsed_url.path\n",
    "filename = os.path.basename(path)\n",
    "\n",
    "\n",
    "print(f\"Loaded {len(df)} records from {filename}.\")"
   ]
  },
  {
   "cell_type": "markdown",
   "id": "da65f2a1-ec8b-496d-bc5d-7177ad456c50",
   "metadata": {},
   "source": [
    "# Get Acquainted with the Dataset"
   ]
  },
  {
   "cell_type": "markdown",
   "id": "0f0ff7f6-b252-41e9-a780-0e9bac096fea",
   "metadata": {},
   "source": [
    "**Display Dataframe Summary**"
   ]
  },
  {
   "cell_type": "code",
   "execution_count": 3,
   "id": "83b4003f-3c8f-4f80-9bd6-a9eef3a1bab6",
   "metadata": {},
   "outputs": [
    {
     "name": "stdout",
     "output_type": "stream",
     "text": [
      "<class 'pandas.core.frame.DataFrame'>\n",
      "RangeIndex: 123 entries, 0 to 122\n",
      "Data columns (total 9 columns):\n",
      " #   Column  Non-Null Count  Dtype  \n",
      "---  ------  --------------  -----  \n",
      " 0   date    123 non-null    object \n",
      " 1   rgnp    123 non-null    float64\n",
      " 2   pgnp    123 non-null    float64\n",
      " 3   ulc     123 non-null    float64\n",
      " 4   gdfco   123 non-null    float64\n",
      " 5   gdf     123 non-null    float64\n",
      " 6   gdfim   123 non-null    float64\n",
      " 7   gdfcf   123 non-null    float64\n",
      " 8   gdfce   123 non-null    float64\n",
      "dtypes: float64(8), object(1)\n",
      "memory usage: 8.8+ KB\n",
      "None\n"
     ]
    }
   ],
   "source": [
    "print(df.info())"
   ]
  },
  {
   "cell_type": "markdown",
   "id": "bf4ebe1f-92c5-4a41-a131-0ed9a0487255",
   "metadata": {},
   "source": [
    "**Spotlights** \n",
    "\n",
    "This dataset consists of 123 rows and 9 columns. All columns, with the exception of the date column, contain float values, and there seems to be no missing data present.\n",
    "\n",
    "**Columns** \n",
    "\n",
    "- **date**, which records each observation every 3 months. In other words, these are quarterly\n",
    "observations for each year.\n",
    "- **rgnp**, the real gross national product (GNP), the value of all products and services produced by\n",
    "a country's residents. In recent times, GNP has largely been replaced by the gross national\n",
    "income (GNI), which determines the same thing but using a different calculation.\n",
    "- **pgnp**, the potential GNP. Potential GNP uses a constant rate of inflation, whereas real GNP\n",
    "uses a variable rate of inflation. Potential GNP is therefore an estimate, and is often used to\n",
    "measure the GNP of the following fiscal quarter.\n",
    "- **ulc**, the unit labor cost (ULC). ULC measures labor productivity by calculating the average cost\n",
    "of labor per unit of output.\n",
    "- **gdfco**, the fixed weight deflator for personal consumption expenditure (excluding food and\n",
    "energy). In GNP/GDI, a deflator is a measure of both price inflation and deflation.\n",
    "- **gdf**, the fixed weight deflator for the GNP. This deflator covers the entire GNP, rather than just\n",
    "one aspect.\n",
    "- **gdfim**, the fixed weight deflator for imports.\n",
    "- **gdfcf**, the fixed weight deflator for food in personal consumption expenditures.\n",
    "- **gdfce**, the fixed weight deflator for energy in personal consumption expenditures."
   ]
  },
  {
   "cell_type": "markdown",
   "id": "c8e0147f-50de-498e-9945-3d5362224c2b",
   "metadata": {},
   "source": [
    "**Display First 10 Records**"
   ]
  },
  {
   "cell_type": "code",
   "execution_count": 4,
   "id": "2eaa9bac-37a7-4367-82e5-8d1e3aab19cb",
   "metadata": {},
   "outputs": [
    {
     "name": "stdout",
     "output_type": "stream",
     "text": [
      "         date    rgnp    pgnp   ulc  gdfco   gdf  gdfim  gdfcf  gdfce\n",
      "0  1959-01-01  1606.4  1608.3  47.5   36.9  37.4   26.9   32.3   23.1\n",
      "1  1959-04-01  1637.0  1622.2  47.5   37.4  37.5   27.0   32.2   23.4\n",
      "2  1959-07-01  1629.5  1636.2  48.7   37.6  37.6   27.1   32.4   23.4\n",
      "3  1959-10-01  1643.4  1650.3  48.8   37.7  37.8   27.1   32.5   23.8\n",
      "4  1960-01-01  1671.6  1664.6  49.1   37.8  37.8   27.2   32.4   23.8\n",
      "5  1960-04-01  1666.8  1679.0  49.6   38.0  38.0   27.4   32.8   23.9\n",
      "6  1960-07-01  1668.4  1693.5  50.0   38.1  38.1   27.4   32.9   24.1\n",
      "7  1960-10-01  1654.1  1708.2  50.2   38.2  38.2   27.2   33.2   24.2\n",
      "8  1961-01-01  1671.3  1722.9  50.1   38.2  38.2   27.2   33.2   24.2\n",
      "9  1961-04-01  1692.1  1737.8  49.8   38.3  38.2   27.2   33.2   24.2\n"
     ]
    }
   ],
   "source": [
    "print(df.head(10))"
   ]
  },
  {
   "cell_type": "markdown",
   "id": "c528a313-a253-4641-a3cc-54c8275dd559",
   "metadata": {},
   "source": [
    "The article from which this dataset is derived aims to analyze the causal relationship between wages and prices. In this machine learning project, the focus is on predicting these variables for multiple quarters following the last recorded observation. Before proceeding, it is essential to prepare the time series data."
   ]
  },
  {
   "cell_type": "markdown",
   "id": "984e1e83-eabc-47e9-92e5-f3c97ba8b0c3",
   "metadata": {},
   "source": [
    "# Transform the 'Date' column into a datetime index.\n",
    "\n",
    "The next steps are to properly format the **date** column and convert it into the index of the dataframe. "
   ]
  },
  {
   "cell_type": "code",
   "execution_count": 5,
   "id": "b2faea0e-d058-4524-b834-89d834285a6f",
   "metadata": {},
   "outputs": [
    {
     "data": {
      "text/html": [
       "<div>\n",
       "<style scoped>\n",
       "    .dataframe tbody tr th:only-of-type {\n",
       "        vertical-align: middle;\n",
       "    }\n",
       "\n",
       "    .dataframe tbody tr th {\n",
       "        vertical-align: top;\n",
       "    }\n",
       "\n",
       "    .dataframe thead th {\n",
       "        text-align: right;\n",
       "    }\n",
       "</style>\n",
       "<table border=\"1\" class=\"dataframe\">\n",
       "  <thead>\n",
       "    <tr style=\"text-align: right;\">\n",
       "      <th></th>\n",
       "      <th>rgnp</th>\n",
       "      <th>pgnp</th>\n",
       "      <th>ulc</th>\n",
       "      <th>gdfco</th>\n",
       "      <th>gdf</th>\n",
       "      <th>gdfim</th>\n",
       "      <th>gdfcf</th>\n",
       "      <th>gdfce</th>\n",
       "    </tr>\n",
       "    <tr>\n",
       "      <th>date</th>\n",
       "      <th></th>\n",
       "      <th></th>\n",
       "      <th></th>\n",
       "      <th></th>\n",
       "      <th></th>\n",
       "      <th></th>\n",
       "      <th></th>\n",
       "      <th></th>\n",
       "    </tr>\n",
       "  </thead>\n",
       "  <tbody>\n",
       "    <tr>\n",
       "      <th>1959-01</th>\n",
       "      <td>1606.4</td>\n",
       "      <td>1608.3</td>\n",
       "      <td>47.5</td>\n",
       "      <td>36.9</td>\n",
       "      <td>37.4</td>\n",
       "      <td>26.9</td>\n",
       "      <td>32.3</td>\n",
       "      <td>23.1</td>\n",
       "    </tr>\n",
       "    <tr>\n",
       "      <th>1959-04</th>\n",
       "      <td>1637.0</td>\n",
       "      <td>1622.2</td>\n",
       "      <td>47.5</td>\n",
       "      <td>37.4</td>\n",
       "      <td>37.5</td>\n",
       "      <td>27.0</td>\n",
       "      <td>32.2</td>\n",
       "      <td>23.4</td>\n",
       "    </tr>\n",
       "    <tr>\n",
       "      <th>1959-07</th>\n",
       "      <td>1629.5</td>\n",
       "      <td>1636.2</td>\n",
       "      <td>48.7</td>\n",
       "      <td>37.6</td>\n",
       "      <td>37.6</td>\n",
       "      <td>27.1</td>\n",
       "      <td>32.4</td>\n",
       "      <td>23.4</td>\n",
       "    </tr>\n",
       "    <tr>\n",
       "      <th>1959-10</th>\n",
       "      <td>1643.4</td>\n",
       "      <td>1650.3</td>\n",
       "      <td>48.8</td>\n",
       "      <td>37.7</td>\n",
       "      <td>37.8</td>\n",
       "      <td>27.1</td>\n",
       "      <td>32.5</td>\n",
       "      <td>23.8</td>\n",
       "    </tr>\n",
       "    <tr>\n",
       "      <th>1960-01</th>\n",
       "      <td>1671.6</td>\n",
       "      <td>1664.6</td>\n",
       "      <td>49.1</td>\n",
       "      <td>37.8</td>\n",
       "      <td>37.8</td>\n",
       "      <td>27.2</td>\n",
       "      <td>32.4</td>\n",
       "      <td>23.8</td>\n",
       "    </tr>\n",
       "    <tr>\n",
       "      <th>...</th>\n",
       "      <td>...</td>\n",
       "      <td>...</td>\n",
       "      <td>...</td>\n",
       "      <td>...</td>\n",
       "      <td>...</td>\n",
       "      <td>...</td>\n",
       "      <td>...</td>\n",
       "      <td>...</td>\n",
       "    </tr>\n",
       "    <tr>\n",
       "      <th>1988-07</th>\n",
       "      <td>4042.7</td>\n",
       "      <td>3971.9</td>\n",
       "      <td>179.6</td>\n",
       "      <td>131.5</td>\n",
       "      <td>124.9</td>\n",
       "      <td>106.2</td>\n",
       "      <td>123.5</td>\n",
       "      <td>92.8</td>\n",
       "    </tr>\n",
       "    <tr>\n",
       "      <th>1988-10</th>\n",
       "      <td>4069.4</td>\n",
       "      <td>3995.8</td>\n",
       "      <td>181.3</td>\n",
       "      <td>133.3</td>\n",
       "      <td>126.2</td>\n",
       "      <td>107.3</td>\n",
       "      <td>124.9</td>\n",
       "      <td>92.9</td>\n",
       "    </tr>\n",
       "    <tr>\n",
       "      <th>1989-01</th>\n",
       "      <td>4106.8</td>\n",
       "      <td>4019.9</td>\n",
       "      <td>184.1</td>\n",
       "      <td>134.8</td>\n",
       "      <td>127.7</td>\n",
       "      <td>109.5</td>\n",
       "      <td>126.6</td>\n",
       "      <td>94.0</td>\n",
       "    </tr>\n",
       "    <tr>\n",
       "      <th>1989-04</th>\n",
       "      <td>4132.5</td>\n",
       "      <td>4044.1</td>\n",
       "      <td>186.1</td>\n",
       "      <td>134.8</td>\n",
       "      <td>129.3</td>\n",
       "      <td>111.1</td>\n",
       "      <td>129.0</td>\n",
       "      <td>100.6</td>\n",
       "    </tr>\n",
       "    <tr>\n",
       "      <th>1989-07</th>\n",
       "      <td>4162.9</td>\n",
       "      <td>4068.4</td>\n",
       "      <td>187.4</td>\n",
       "      <td>137.2</td>\n",
       "      <td>130.2</td>\n",
       "      <td>109.8</td>\n",
       "      <td>129.9</td>\n",
       "      <td>98.2</td>\n",
       "    </tr>\n",
       "  </tbody>\n",
       "</table>\n",
       "<p>123 rows × 8 columns</p>\n",
       "</div>"
      ],
      "text/plain": [
       "           rgnp    pgnp    ulc  gdfco    gdf  gdfim  gdfcf  gdfce\n",
       "date                                                             \n",
       "1959-01  1606.4  1608.3   47.5   36.9   37.4   26.9   32.3   23.1\n",
       "1959-04  1637.0  1622.2   47.5   37.4   37.5   27.0   32.2   23.4\n",
       "1959-07  1629.5  1636.2   48.7   37.6   37.6   27.1   32.4   23.4\n",
       "1959-10  1643.4  1650.3   48.8   37.7   37.8   27.1   32.5   23.8\n",
       "1960-01  1671.6  1664.6   49.1   37.8   37.8   27.2   32.4   23.8\n",
       "...         ...     ...    ...    ...    ...    ...    ...    ...\n",
       "1988-07  4042.7  3971.9  179.6  131.5  124.9  106.2  123.5   92.8\n",
       "1988-10  4069.4  3995.8  181.3  133.3  126.2  107.3  124.9   92.9\n",
       "1989-01  4106.8  4019.9  184.1  134.8  127.7  109.5  126.6   94.0\n",
       "1989-04  4132.5  4044.1  186.1  134.8  129.3  111.1  129.0  100.6\n",
       "1989-07  4162.9  4068.4  187.4  137.2  130.2  109.8  129.9   98.2\n",
       "\n",
       "[123 rows x 8 columns]"
      ]
     },
     "execution_count": 5,
     "metadata": {},
     "output_type": "execute_result"
    }
   ],
   "source": [
    "df.index = pd.to_datetime(df[\"date\"])\n",
    "df.index = df.index.to_period(\"M\")\n",
    "df.drop([\"date\"], axis=1, inplace=True)\n",
    "df"
   ]
  },
  {
   "cell_type": "markdown",
   "id": "1d51f337-ec4c-4ce1-8f56-60510f3488c8",
   "metadata": {},
   "source": [
    "- The **date** column has been transformed.\n",
    "- The first recorded observation dates back to January 1959, while the most recent observation occurred in July 1989."
   ]
  }
 ],
 "metadata": {
  "kernelspec": {
   "display_name": "Python 3 (ipykernel)",
   "language": "python",
   "name": "python3"
  },
  "language_info": {
   "codemirror_mode": {
    "name": "ipython",
    "version": 3
   },
   "file_extension": ".py",
   "mimetype": "text/x-python",
   "name": "python",
   "nbconvert_exporter": "python",
   "pygments_lexer": "ipython3",
   "version": "3.8.18"
  }
 },
 "nbformat": 4,
 "nbformat_minor": 5
}
