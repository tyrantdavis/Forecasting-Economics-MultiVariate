{
 "cells": [
  {
   "cell_type": "markdown",
   "id": "fd585928",
   "metadata": {},
   "source": [
    "# Import Software Libraries"
   ]
  },
  {
   "cell_type": "code",
   "execution_count": 1,
   "id": "34d34fc2-170f-4589-b80f-5b18efe83810",
   "metadata": {},
   "outputs": [
    {
     "name": "stdout",
     "output_type": "stream",
     "text": [
      "Libraries used in this project:\n",
      "- NumPy 1.24.3\n",
      "- pandas 2.0.3\n",
      "- scikit-learn 1.3.2\n",
      "- statsmodels 0.14.1\n",
      "- Matplotlib 3.7.2\n",
      "- requests 2.32.3\n",
      "- statsmodels 0.14.1\n",
      "- Python 3.8.18 | packaged by conda-forge | (default, Dec 23 2023, 17:23:49) \n",
      "[Clang 15.0.7 ]\n",
      "\n"
     ]
    }
   ],
   "source": [
    "import datetime as dt  # Work with datetime types.\n",
    "import os  # Interact with the operating system.\n",
    "import sys  # Read system parameters.\n",
    "import warnings  # Ignore warnings\n",
    "from io import StringIO  # Read and write strings as files\n",
    "from urllib.parse import urlparse  # Parse url and extract path component\n",
    "\n",
    "import matplotlib\n",
    "import matplotlib.pyplot as plt\n",
    "import numpy as np  # Work with multi-dimensional arrays and matrices.\n",
    "import pandas as pd  # Manipulate and analyze data frames.\n",
    "import requests  # Send HTTP requests\n",
    "import sklearn  # Perform feature engineering and machine learning.\n",
    "import statsmodels  # Perform statistical modeling.\n",
    "\n",
    "# Summarize software libraries used.\n",
    "print(\"Libraries used in this project:\")\n",
    "print(\"- NumPy {}\".format(np.__version__))\n",
    "print(\"- pandas {}\".format(pd.__version__))\n",
    "print(\"- scikit-learn {}\".format(sklearn.__version__))\n",
    "print(\"- statsmodels {}\".format(statsmodels.__version__))\n",
    "print(\"- Matplotlib {}\".format(matplotlib.__version__))\n",
    "print(\"- requests {}\".format(requests.__version__))\n",
    "print(\"- statsmodels {}\".format(statsmodels.__version__))\n",
    "print(\"- Python {}\\n\".format(sys.version))"
   ]
  },
  {
   "cell_type": "markdown",
   "id": "c42b6aff-de85-4f53-aab1-ee67c13ac9ed",
   "metadata": {},
   "source": [
    "# Load Dataset"
   ]
  },
  {
   "cell_type": "code",
   "execution_count": 5,
   "id": "1c247197-a39e-433e-b9e9-e237652ee22a",
   "metadata": {},
   "outputs": [
    {
     "name": "stdout",
     "output_type": "stream",
     "text": [
      "Loaded 123 records from economics_data.csv.\n"
     ]
    }
   ],
   "source": [
    "# Capture URL\n",
    "url = \"https://raw.githubusercontent.com/tyrantdavis/datasets/refs/heads/main/economics_data.csv\"\n",
    "request = requests.get(url).text\n",
    "\n",
    "# Save as dataframe and copy\n",
    "original = pd.read_csv(StringIO(request))\n",
    "df = original.copy()\n",
    "\n",
    "# Parse URL\n",
    "parsed_url = urlparse(url)\n",
    "path = parsed_url.path\n",
    "filename = os.path.basename(path)\n",
    "\n",
    "\n",
    "print(f\"Loaded {len(df)} records from {filename}.\")"
   ]
  }
 ],
 "metadata": {
  "kernelspec": {
   "display_name": "Python 3 (ipykernel)",
   "language": "python",
   "name": "python3"
  },
  "language_info": {
   "codemirror_mode": {
    "name": "ipython",
    "version": 3
   },
   "file_extension": ".py",
   "mimetype": "text/x-python",
   "name": "python",
   "nbconvert_exporter": "python",
   "pygments_lexer": "ipython3",
   "version": "3.8.18"
  }
 },
 "nbformat": 4,
 "nbformat_minor": 5
}
